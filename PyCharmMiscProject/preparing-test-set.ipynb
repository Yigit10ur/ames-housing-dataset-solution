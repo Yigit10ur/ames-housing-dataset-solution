{
 "cells": [
  {
   "cell_type": "code",
   "id": "initial_id",
   "metadata": {
    "collapsed": true,
    "ExecuteTime": {
     "end_time": "2025-08-14T11:33:49.843134Z",
     "start_time": "2025-08-14T11:33:49.838215Z"
    }
   },
   "source": [
    "import numpy as np\n",
    "import pandas as pd\n",
    "import matplotlib.pyplot as plt\n",
    "import seaborn as sns"
   ],
   "outputs": [],
   "execution_count": 36
  },
  {
   "metadata": {
    "ExecuteTime": {
     "end_time": "2025-08-14T11:33:51.386815Z",
     "start_time": "2025-08-14T11:33:51.337250Z"
    }
   },
   "cell_type": "code",
   "source": "eng_df = pd.read_csv('eng_df.csv')",
   "id": "e49ec52d83f45dec",
   "outputs": [],
   "execution_count": 37
  },
  {
   "metadata": {
    "ExecuteTime": {
     "end_time": "2025-08-14T11:33:52.253654Z",
     "start_time": "2025-08-14T11:33:52.154001Z"
    }
   },
   "cell_type": "code",
   "source": [
    "test_df = pd.read_csv('test.csv')\n",
    "filled_df = pd.read_csv('filled_data.csv')"
   ],
   "id": "ea997c87723934b1",
   "outputs": [],
   "execution_count": 38
  },
  {
   "metadata": {
    "ExecuteTime": {
     "end_time": "2025-08-14T11:33:52.872198Z",
     "start_time": "2025-08-14T11:33:52.863621Z"
    }
   },
   "cell_type": "code",
   "source": "test_df = test_df.drop(['Alley','PoolQC','Fence','MiscFeature'],axis=1)",
   "id": "f47dea5c6d4f7edd",
   "outputs": [],
   "execution_count": 39
  },
  {
   "metadata": {
    "ExecuteTime": {
     "end_time": "2025-08-14T11:33:53.712830Z",
     "start_time": "2025-08-14T11:33:53.663276Z"
    }
   },
   "cell_type": "code",
   "source": [
    "median_values = eng_df.groupby('Neighborhood')['LotFrontage'].median()\n",
    "\n",
    "test_df['LotFrontage'] = test_df.apply(\n",
    "    lambda row: median_values[row['Neighborhood']] if pd.isna(row['LotFrontage']) else row['LotFrontage'],\n",
    "    axis=1\n",
    ")"
   ],
   "id": "7773df31f86775c2",
   "outputs": [],
   "execution_count": 40
  },
  {
   "metadata": {
    "ExecuteTime": {
     "end_time": "2025-08-14T11:33:54.782174Z",
     "start_time": "2025-08-14T11:33:54.733483Z"
    }
   },
   "cell_type": "code",
   "source": [
    "test_df['MasVnrType'] = test_df['MasVnrType'].fillna('None')\n",
    "masvnr_medians = eng_df.groupby('MasVnrType')['MasVnrArea'].median()\n",
    "\n",
    "global_median = eng_df['MasVnrArea'].median()\n",
    "\n",
    "def fill_masvnr_area(row):\n",
    "    if pd.isna(row['MasVnrArea']):\n",
    "        # Use training category median if available, else global median\n",
    "        return masvnr_medians.get(row['MasVnrType'], global_median)\n",
    "    return row['MasVnrArea']\n",
    "\n",
    "\n",
    "test_df['MasVnrArea'] = test_df.apply(\n",
    "    fill_masvnr_area,\n",
    "    axis=1\n",
    ")\n",
    "\n",
    "test_df.loc[test_df['MasVnrType'] == 'None', 'MasVnrArea'] = 0"
   ],
   "id": "7f2935e8cab6d5c2",
   "outputs": [],
   "execution_count": 41
  },
  {
   "metadata": {
    "ExecuteTime": {
     "end_time": "2025-08-14T11:33:56.945734Z",
     "start_time": "2025-08-14T11:33:56.932740Z"
    }
   },
   "cell_type": "code",
   "source": "test_df['MasVnrType']",
   "id": "63e2c5ac84cc1a5c",
   "outputs": [
    {
     "data": {
      "text/plain": [
       "0          None\n",
       "1       BrkFace\n",
       "2          None\n",
       "3       BrkFace\n",
       "4          None\n",
       "         ...   \n",
       "1454       None\n",
       "1455       None\n",
       "1456       None\n",
       "1457       None\n",
       "1458    BrkFace\n",
       "Name: MasVnrType, Length: 1459, dtype: object"
      ]
     },
     "execution_count": 42,
     "metadata": {},
     "output_type": "execute_result"
    }
   ],
   "execution_count": 42
  },
  {
   "metadata": {
    "ExecuteTime": {
     "end_time": "2025-08-14T11:35:02.239224Z",
     "start_time": "2025-08-14T11:35:02.226149Z"
    }
   },
   "cell_type": "code",
   "source": [
    "eng_df['MasVnrType'] = eng_df['MasVnrType'].fillna('None')\n",
    "eng_df['MasVnrType']"
   ],
   "id": "cc9c886bc647ab25",
   "outputs": [
    {
     "data": {
      "text/plain": [
       "0       BrkFace\n",
       "1          None\n",
       "2       BrkFace\n",
       "3          None\n",
       "4       BrkFace\n",
       "         ...   \n",
       "1455       None\n",
       "1456      Stone\n",
       "1457       None\n",
       "1458       None\n",
       "1459       None\n",
       "Name: MasVnrType, Length: 1460, dtype: object"
      ]
     },
     "execution_count": 44,
     "metadata": {},
     "output_type": "execute_result"
    }
   ],
   "execution_count": 44
  },
  {
   "metadata": {
    "ExecuteTime": {
     "end_time": "2025-08-14T12:12:43.615100Z",
     "start_time": "2025-08-14T12:12:43.605116Z"
    }
   },
   "cell_type": "code",
   "source": [
    "mode_val = eng_df['BsmtCond'].mode()[0]\n",
    "test_df['BsmtCond'] = test_df['BsmtCond'].fillna(mode_val)"
   ],
   "id": "f067987b6ebec185",
   "outputs": [],
   "execution_count": 45
  },
  {
   "metadata": {
    "ExecuteTime": {
     "end_time": "2025-08-14T12:23:52.161144Z",
     "start_time": "2025-08-14T12:23:50.913264Z"
    }
   },
   "cell_type": "code",
   "source": [
    "import joblib\n",
    "\n",
    "encoder = joblib.load('ordinal_encoder.pkl')\n",
    "features = ['TotalBsmtSF', 'BsmtCond', 'BsmtFinSF1']\n",
    "\n",
    "test_df[features] = encoder.transform(test_df[features])"
   ],
   "id": "1d978bffc34e8913",
   "outputs": [
    {
     "ename": "ValueError",
     "evalue": "Found unknown categories [np.float64(160.0), np.float64(173.0), np.float64(192.0), np.float64(216.0), np.float64(240.0), np.float64(245.0), np.float64(264.0), np.float64(279.0), np.float64(297.0), np.float64(301.0), np.float64(346.0), np.float64(348.0), np.float64(352.0), np.float64(356.0), np.float64(370.0), np.float64(381.0), np.float64(384.0), np.float64(385.0), np.float64(392.0), np.float64(396.0), np.float64(405.0), np.float64(407.0), np.float64(409.0), np.float64(416.0), np.float64(423.0), np.float64(430.0), np.float64(432.0), np.float64(448.0), np.float64(450.0), np.float64(451.0), np.float64(456.0), np.float64(462.0), np.float64(468.0), np.float64(480.0), np.float64(481.0), np.float64(483.0), np.float64(484.0), np.float64(492.0), np.float64(494.0), np.float64(498.0), np.float64(502.0), np.float64(504.0), np.float64(516.0), np.float64(520.0), np.float64(525.0), np.float64(526.0), np.float64(528.0), np.float64(530.0), np.float64(531.0), np.float64(533.0), np.float64(536.0), np.float64(546.0), np.float64(547.0), np.float64(550.0), np.float64(552.0), np.float64(554.0), np.float64(560.0), np.float64(561.0), np.float64(565.0), np.float64(569.0), np.float64(570.0), np.float64(572.0), np.float64(576.0), np.float64(583.0), np.float64(585.0), np.float64(592.0), np.float64(596.0), np.float64(600.0), np.float64(608.0), np.float64(610.0), np.float64(616.0), np.float64(621.0), np.float64(624.0), np.float64(628.0), np.float64(629.0), np.float64(630.0), np.float64(631.0), np.float64(635.0), np.float64(636.0), np.float64(637.0), np.float64(641.0), np.float64(644.0), np.float64(651.0), np.float64(660.0), np.float64(662.0), np.float64(663.0), np.float64(666.0), np.float64(671.0), np.float64(672.0), np.float64(675.0), np.float64(676.0), np.float64(677.0), np.float64(678.0), np.float64(680.0), np.float64(684.0), np.float64(686.0), np.float64(687.0), np.float64(689.0), np.float64(690.0), np.float64(691.0), np.float64(697.0), np.float64(698.0), np.float64(699.0), np.float64(704.0), np.float64(707.0), np.float64(709.0), np.float64(712.0), np.float64(713.0), np.float64(715.0), np.float64(716.0), np.float64(720.0), np.float64(723.0), np.float64(725.0), np.float64(728.0), np.float64(732.0), np.float64(734.0), np.float64(736.0), np.float64(738.0), np.float64(739.0), np.float64(741.0), np.float64(744.0), np.float64(745.0), np.float64(747.0), np.float64(750.0), np.float64(752.0), np.float64(754.0), np.float64(755.0), np.float64(756.0), np.float64(760.0), np.float64(763.0), np.float64(764.0), np.float64(765.0), np.float64(768.0), np.float64(770.0), np.float64(771.0), np.float64(779.0), np.float64(780.0), np.float64(781.0), np.float64(782.0), np.float64(784.0), np.float64(789.0), np.float64(792.0), np.float64(793.0), np.float64(794.0), np.float64(795.0), np.float64(796.0), np.float64(797.0), np.float64(798.0), np.float64(799.0), np.float64(801.0), np.float64(804.0), np.float64(806.0), np.float64(808.0), np.float64(810.0), np.float64(812.0), np.float64(813.0), np.float64(816.0), np.float64(817.0), np.float64(818.0), np.float64(819.0), np.float64(821.0), np.float64(822.0), np.float64(824.0), np.float64(825.0), np.float64(826.0), np.float64(827.0), np.float64(828.0), np.float64(830.0), np.float64(831.0), np.float64(832.0), np.float64(833.0), np.float64(835.0), np.float64(836.0), np.float64(837.0), np.float64(840.0), np.float64(842.0), np.float64(844.0), np.float64(845.0), np.float64(846.0), np.float64(847.0), np.float64(848.0), np.float64(850.0), np.float64(851.0), np.float64(852.0), np.float64(853.0), np.float64(854.0), np.float64(855.0), np.float64(856.0), np.float64(858.0), np.float64(859.0), np.float64(860.0), np.float64(861.0), np.float64(864.0), np.float64(868.0), np.float64(869.0), np.float64(870.0), np.float64(872.0), np.float64(876.0), np.float64(878.0), np.float64(879.0), np.float64(880.0), np.float64(882.0), np.float64(884.0), np.float64(886.0), np.float64(888.0), np.float64(890.0), np.float64(891.0), np.float64(892.0), np.float64(894.0), np.float64(895.0), np.float64(896.0), np.float64(900.0), np.float64(901.0), np.float64(902.0), np.float64(903.0), np.float64(904.0), np.float64(907.0), np.float64(908.0), np.float64(910.0), np.float64(911.0), np.float64(912.0), np.float64(913.0), np.float64(914.0), np.float64(915.0), np.float64(916.0), np.float64(917.0), np.float64(918.0), np.float64(920.0), np.float64(922.0), np.float64(923.0), np.float64(924.0), np.float64(925.0), np.float64(926.0), np.float64(928.0), np.float64(929.0), np.float64(930.0), np.float64(931.0), np.float64(932.0), np.float64(936.0), np.float64(938.0), np.float64(941.0), np.float64(942.0), np.float64(943.0), np.float64(944.0), np.float64(945.0), np.float64(946.0), np.float64(948.0), np.float64(949.0), np.float64(951.0), np.float64(952.0), np.float64(954.0), np.float64(955.0), np.float64(957.0), np.float64(960.0), np.float64(964.0), np.float64(966.0), np.float64(967.0), np.float64(969.0), np.float64(970.0), np.float64(972.0), np.float64(973.0), np.float64(975.0), np.float64(976.0), np.float64(979.0), np.float64(980.0), np.float64(981.0), np.float64(982.0), np.float64(984.0), np.float64(985.0), np.float64(988.0), np.float64(989.0), np.float64(990.0), np.float64(992.0), np.float64(994.0), np.float64(995.0), np.float64(996.0), np.float64(998.0), np.float64(1000.0), np.float64(1001.0), np.float64(1004.0), np.float64(1005.0), np.float64(1008.0), np.float64(1014.0), np.float64(1015.0), np.float64(1020.0), np.float64(1022.0), np.float64(1024.0), np.float64(1025.0), np.float64(1026.0), np.float64(1027.0), np.float64(1029.0), np.float64(1031.0), np.float64(1032.0), np.float64(1035.0), np.float64(1036.0), np.float64(1037.0), np.float64(1038.0), np.float64(1040.0), np.float64(1041.0), np.float64(1042.0), np.float64(1043.0), np.float64(1044.0), np.float64(1045.0), np.float64(1046.0), np.float64(1047.0), np.float64(1048.0), np.float64(1049.0), np.float64(1050.0), np.float64(1051.0), np.float64(1052.0), np.float64(1053.0), np.float64(1054.0), np.float64(1055.0), np.float64(1056.0), np.float64(1057.0), np.float64(1058.0), np.float64(1059.0), np.float64(1060.0), np.float64(1061.0), np.float64(1062.0), np.float64(1064.0), np.float64(1065.0), np.float64(1066.0), np.float64(1067.0), np.float64(1068.0), np.float64(1069.0), np.float64(1070.0), np.float64(1072.0), np.float64(1073.0), np.float64(1074.0), np.float64(1075.0), np.float64(1076.0), np.float64(1077.0), np.float64(1078.0), np.float64(1079.0), np.float64(1080.0), np.float64(1081.0), np.float64(1082.0), np.float64(1083.0), np.float64(1084.0), np.float64(1088.0), np.float64(1089.0), np.float64(1090.0), np.float64(1091.0), np.float64(1092.0), np.float64(1093.0), np.float64(1094.0), np.float64(1097.0), np.float64(1100.0), np.float64(1103.0), np.float64(1104.0), np.float64(1105.0), np.float64(1107.0), np.float64(1108.0), np.float64(1112.0), np.float64(1113.0), np.float64(1114.0), np.float64(1116.0), np.float64(1117.0), np.float64(1118.0), np.float64(1121.0), np.float64(1122.0), np.float64(1124.0), np.float64(1127.0), np.float64(1128.0), np.float64(1129.0), np.float64(1130.0), np.float64(1131.0), np.float64(1135.0), np.float64(1138.0), np.float64(1140.0), np.float64(1141.0), np.float64(1142.0), np.float64(1143.0), np.float64(1144.0), np.float64(1145.0), np.float64(1146.0), np.float64(1147.0), np.float64(1148.0), np.float64(1149.0), np.float64(1150.0), np.float64(1151.0), np.float64(1152.0), np.float64(1153.0), np.float64(1158.0), np.float64(1160.0), np.float64(1162.0), np.float64(1165.0), np.float64(1166.0), np.float64(1168.0), np.float64(1169.0), np.float64(1170.0), np.float64(1172.0), np.float64(1173.0), np.float64(1174.0), np.float64(1175.0), np.float64(1176.0), np.float64(1177.0), np.float64(1178.0), np.float64(1179.0), np.float64(1180.0), np.float64(1181.0), np.float64(1182.0), np.float64(1187.0), np.float64(1188.0), np.float64(1189.0), np.float64(1190.0), np.float64(1191.0), np.float64(1195.0), np.float64(1196.0), np.float64(1200.0), np.float64(1202.0), np.float64(1204.0), np.float64(1206.0), np.float64(1208.0), np.float64(1209.0), np.float64(1211.0), np.float64(1212.0), np.float64(1214.0), np.float64(1216.0), np.float64(1217.0), np.float64(1218.0), np.float64(1220.0), np.float64(1222.0), np.float64(1223.0), np.float64(1224.0), np.float64(1226.0), np.float64(1228.0), np.float64(1230.0), np.float64(1231.0), np.float64(1232.0), np.float64(1235.0), np.float64(1236.0), np.float64(1240.0), np.float64(1242.0), np.float64(1243.0), np.float64(1244.0), np.float64(1246.0), np.float64(1248.0), np.float64(1250.0), np.float64(1251.0), np.float64(1254.0), np.float64(1256.0), np.float64(1257.0), np.float64(1259.0), np.float64(1260.0), np.float64(1265.0), np.float64(1266.0), np.float64(1267.0), np.float64(1270.0), np.float64(1272.0), np.float64(1273.0), np.float64(1277.0), np.float64(1278.0), np.float64(1280.0), np.float64(1282.0), np.float64(1284.0), np.float64(1286.0), np.float64(1288.0), np.float64(1290.0), np.float64(1292.0), np.float64(1295.0), np.float64(1296.0), np.float64(1298.0), np.float64(1300.0), np.float64(1302.0), np.float64(1306.0), np.float64(1308.0), np.float64(1310.0), np.float64(1312.0), np.float64(1313.0), np.float64(1317.0), np.float64(1319.0), np.float64(1324.0), np.float64(1325.0), np.float64(1326.0), np.float64(1329.0), np.float64(1330.0), np.float64(1331.0), np.float64(1332.0), np.float64(1334.0), np.float64(1335.0), np.float64(1336.0), np.float64(1337.0), np.float64(1338.0), np.float64(1339.0), np.float64(1341.0), np.float64(1342.0), np.float64(1344.0), np.float64(1347.0), np.float64(1348.0), np.float64(1350.0), np.float64(1351.0), np.float64(1352.0), np.float64(1357.0), np.float64(1358.0), np.float64(1362.0), np.float64(1363.0), np.float64(1365.0), np.float64(1367.0), np.float64(1368.0), np.float64(1369.0), np.float64(1370.0), np.float64(1372.0), np.float64(1376.0), np.float64(1377.0), np.float64(1378.0), np.float64(1380.0), np.float64(1381.0), np.float64(1382.0), np.float64(1388.0), np.float64(1389.0), np.float64(1390.0), np.float64(1393.0), np.float64(1395.0), np.float64(1396.0), np.float64(1398.0), np.float64(1400.0), np.float64(1401.0), np.float64(1402.0), np.float64(1405.0), np.float64(1406.0), np.float64(1408.0), np.float64(1409.0), np.float64(1414.0), np.float64(1415.0), np.float64(1417.0), np.float64(1418.0), np.float64(1419.0), np.float64(1420.0), np.float64(1422.0), np.float64(1425.0), np.float64(1426.0), np.float64(1427.0), np.float64(1430.0), np.float64(1431.0), np.float64(1432.0), np.float64(1433.0), np.float64(1434.0), np.float64(1436.0), np.float64(1438.0), np.float64(1441.0), np.float64(1444.0), np.float64(1445.0), np.float64(1449.0), np.float64(1450.0), np.float64(1451.0), np.float64(1453.0), np.float64(1454.0), np.float64(1455.0), np.float64(1460.0), np.float64(1461.0), np.float64(1462.0), np.float64(1463.0), np.float64(1468.0), np.float64(1479.0), np.float64(1480.0), np.float64(1487.0), np.float64(1488.0), np.float64(1489.0), np.float64(1491.0), np.float64(1492.0), np.float64(1494.0), np.float64(1495.0), np.float64(1498.0), np.float64(1501.0), np.float64(1504.0), np.float64(1508.0), np.float64(1509.0), np.float64(1510.0), np.float64(1511.0), np.float64(1512.0), np.float64(1518.0), np.float64(1519.0), np.float64(1524.0), np.float64(1528.0), np.float64(1529.0), np.float64(1530.0), np.float64(1531.0), np.float64(1538.0), np.float64(1540.0), np.float64(1542.0), np.float64(1544.0), np.float64(1546.0), np.float64(1550.0), np.float64(1553.0), np.float64(1554.0), np.float64(1555.0), np.float64(1556.0), np.float64(1557.0), np.float64(1560.0), np.float64(1561.0), np.float64(1562.0), np.float64(1564.0), np.float64(1568.0), np.float64(1569.0), np.float64(1570.0), np.float64(1573.0), np.float64(1574.0), np.float64(1577.0), np.float64(1578.0), np.float64(1580.0), np.float64(1582.0), np.float64(1584.0), np.float64(1587.0), np.float64(1590.0), np.float64(1592.0), np.float64(1594.0), np.float64(1595.0), np.float64(1596.0), np.float64(1598.0), np.float64(1602.0), np.float64(1603.0), np.float64(1604.0), np.float64(1606.0), np.float64(1612.0), np.float64(1614.0), np.float64(1615.0), np.float64(1617.0), np.float64(1618.0), np.float64(1620.0), np.float64(1621.0), np.float64(1625.0), np.float64(1629.0), np.float64(1632.0), np.float64(1641.0), np.float64(1642.0), np.float64(1643.0), np.float64(1645.0), np.float64(1652.0), np.float64(1660.0), np.float64(1664.0), np.float64(1666.0), np.float64(1670.0), np.float64(1671.0), np.float64(1673.0), np.float64(1675.0), np.float64(1678.0), np.float64(1679.0), np.float64(1680.0), np.float64(1685.0), np.float64(1686.0), np.float64(1689.0), np.float64(1694.0), np.float64(1696.0), np.float64(1698.0), np.float64(1700.0), np.float64(1702.0), np.float64(1704.0), np.float64(1705.0), np.float64(1706.0), np.float64(1710.0), np.float64(1712.0), np.float64(1714.0), np.float64(1720.0), np.float64(1721.0), np.float64(1726.0), np.float64(1728.0), np.float64(1733.0), np.float64(1736.0), np.float64(1738.0), np.float64(1739.0), np.float64(1740.0), np.float64(1742.0), np.float64(1748.0), np.float64(1751.0), np.float64(1760.0), np.float64(1765.0), np.float64(1774.0), np.float64(1776.0), np.float64(1778.0), np.float64(1779.0), np.float64(1780.0), np.float64(1782.0), np.float64(1790.0), np.float64(1792.0), np.float64(1800.0), np.float64(1802.0), np.float64(1803.0), np.float64(1822.0), np.float64(1824.0), np.float64(1829.0), np.float64(1832.0), np.float64(1836.0), np.float64(1838.0), np.float64(1840.0), np.float64(1848.0), np.float64(1850.0), np.float64(1851.0), np.float64(1858.0), np.float64(1865.0), np.float64(1866.0), np.float64(1868.0), np.float64(1884.0), np.float64(1898.0), np.float64(1910.0), np.float64(1921.0), np.float64(1922.0), np.float64(1934.0), np.float64(1949.0), np.float64(1950.0), np.float64(1958.0), np.float64(1964.0), np.float64(1966.0), np.float64(1967.0), np.float64(1978.0), np.float64(1982.0), np.float64(1994.0), np.float64(2002.0), np.float64(2014.0), np.float64(2020.0), np.float64(2024.0), np.float64(2036.0), np.float64(2048.0), np.float64(2062.0), np.float64(2108.0), np.float64(2140.0), np.float64(2171.0), np.float64(2190.0), np.float64(2200.0), np.float64(2208.0), np.float64(2220.0), np.float64(2271.0), np.float64(2320.0), np.float64(2418.0), np.float64(2452.0), np.float64(2458.0), np.float64(2461.0), np.float64(2492.0), np.float64(2535.0), np.float64(2552.0), np.float64(2630.0), np.float64(2660.0), np.float64(2846.0), np.float64(5095.0), np.float64(nan)] in column 0 during transform",
     "output_type": "error",
     "traceback": [
      "\u001B[31m---------------------------------------------------------------------------\u001B[39m",
      "\u001B[31mValueError\u001B[39m                                Traceback (most recent call last)",
      "\u001B[36mCell\u001B[39m\u001B[36m \u001B[39m\u001B[32mIn[47]\u001B[39m\u001B[32m, line 6\u001B[39m\n\u001B[32m      3\u001B[39m encoder = joblib.load(\u001B[33m'\u001B[39m\u001B[33mordinal_encoder.pkl\u001B[39m\u001B[33m'\u001B[39m)\n\u001B[32m      4\u001B[39m features = [\u001B[33m'\u001B[39m\u001B[33mTotalBsmtSF\u001B[39m\u001B[33m'\u001B[39m, \u001B[33m'\u001B[39m\u001B[33mBsmtCond\u001B[39m\u001B[33m'\u001B[39m, \u001B[33m'\u001B[39m\u001B[33mBsmtFinSF1\u001B[39m\u001B[33m'\u001B[39m]\n\u001B[32m----> \u001B[39m\u001B[32m6\u001B[39m test_df[features] = \u001B[43mencoder\u001B[49m\u001B[43m.\u001B[49m\u001B[43mtransform\u001B[49m\u001B[43m(\u001B[49m\u001B[43mtest_df\u001B[49m\u001B[43m[\u001B[49m\u001B[43mfeatures\u001B[49m\u001B[43m]\u001B[49m\u001B[43m)\u001B[49m\n",
      "\u001B[36mFile \u001B[39m\u001B[32m~\\PyCharmMiscProject\\.venv\\Lib\\site-packages\\sklearn\\utils\\_set_output.py:316\u001B[39m, in \u001B[36m_wrap_method_output.<locals>.wrapped\u001B[39m\u001B[34m(self, X, *args, **kwargs)\u001B[39m\n\u001B[32m    314\u001B[39m \u001B[38;5;129m@wraps\u001B[39m(f)\n\u001B[32m    315\u001B[39m \u001B[38;5;28;01mdef\u001B[39;00m\u001B[38;5;250m \u001B[39m\u001B[34mwrapped\u001B[39m(\u001B[38;5;28mself\u001B[39m, X, *args, **kwargs):\n\u001B[32m--> \u001B[39m\u001B[32m316\u001B[39m     data_to_wrap = \u001B[43mf\u001B[49m\u001B[43m(\u001B[49m\u001B[38;5;28;43mself\u001B[39;49m\u001B[43m,\u001B[49m\u001B[43m \u001B[49m\u001B[43mX\u001B[49m\u001B[43m,\u001B[49m\u001B[43m \u001B[49m\u001B[43m*\u001B[49m\u001B[43margs\u001B[49m\u001B[43m,\u001B[49m\u001B[43m \u001B[49m\u001B[43m*\u001B[49m\u001B[43m*\u001B[49m\u001B[43mkwargs\u001B[49m\u001B[43m)\u001B[49m\n\u001B[32m    317\u001B[39m     \u001B[38;5;28;01mif\u001B[39;00m \u001B[38;5;28misinstance\u001B[39m(data_to_wrap, \u001B[38;5;28mtuple\u001B[39m):\n\u001B[32m    318\u001B[39m         \u001B[38;5;66;03m# only wrap the first output for cross decomposition\u001B[39;00m\n\u001B[32m    319\u001B[39m         return_tuple = (\n\u001B[32m    320\u001B[39m             _wrap_data_with_container(method, data_to_wrap[\u001B[32m0\u001B[39m], X, \u001B[38;5;28mself\u001B[39m),\n\u001B[32m    321\u001B[39m             *data_to_wrap[\u001B[32m1\u001B[39m:],\n\u001B[32m    322\u001B[39m         )\n",
      "\u001B[36mFile \u001B[39m\u001B[32m~\\PyCharmMiscProject\\.venv\\Lib\\site-packages\\sklearn\\preprocessing\\_encoders.py:1597\u001B[39m, in \u001B[36mOrdinalEncoder.transform\u001B[39m\u001B[34m(self, X)\u001B[39m\n\u001B[32m   1583\u001B[39m \u001B[38;5;250m\u001B[39m\u001B[33;03m\"\"\"\u001B[39;00m\n\u001B[32m   1584\u001B[39m \u001B[33;03mTransform X to ordinal codes.\u001B[39;00m\n\u001B[32m   1585\u001B[39m \n\u001B[32m   (...)\u001B[39m\u001B[32m   1594\u001B[39m \u001B[33;03m    Transformed input.\u001B[39;00m\n\u001B[32m   1595\u001B[39m \u001B[33;03m\"\"\"\u001B[39;00m\n\u001B[32m   1596\u001B[39m check_is_fitted(\u001B[38;5;28mself\u001B[39m, \u001B[33m\"\u001B[39m\u001B[33mcategories_\u001B[39m\u001B[33m\"\u001B[39m)\n\u001B[32m-> \u001B[39m\u001B[32m1597\u001B[39m X_int, X_mask = \u001B[38;5;28;43mself\u001B[39;49m\u001B[43m.\u001B[49m\u001B[43m_transform\u001B[49m\u001B[43m(\u001B[49m\n\u001B[32m   1598\u001B[39m \u001B[43m    \u001B[49m\u001B[43mX\u001B[49m\u001B[43m,\u001B[49m\n\u001B[32m   1599\u001B[39m \u001B[43m    \u001B[49m\u001B[43mhandle_unknown\u001B[49m\u001B[43m=\u001B[49m\u001B[38;5;28;43mself\u001B[39;49m\u001B[43m.\u001B[49m\u001B[43mhandle_unknown\u001B[49m\u001B[43m,\u001B[49m\n\u001B[32m   1600\u001B[39m \u001B[43m    \u001B[49m\u001B[43mensure_all_finite\u001B[49m\u001B[43m=\u001B[49m\u001B[33;43m\"\u001B[39;49m\u001B[33;43mallow-nan\u001B[39;49m\u001B[33;43m\"\u001B[39;49m\u001B[43m,\u001B[49m\n\u001B[32m   1601\u001B[39m \u001B[43m    \u001B[49m\u001B[43mignore_category_indices\u001B[49m\u001B[43m=\u001B[49m\u001B[38;5;28;43mself\u001B[39;49m\u001B[43m.\u001B[49m\u001B[43m_missing_indices\u001B[49m\u001B[43m,\u001B[49m\n\u001B[32m   1602\u001B[39m \u001B[43m\u001B[49m\u001B[43m)\u001B[49m\n\u001B[32m   1603\u001B[39m X_trans = X_int.astype(\u001B[38;5;28mself\u001B[39m.dtype, copy=\u001B[38;5;28;01mFalse\u001B[39;00m)\n\u001B[32m   1605\u001B[39m \u001B[38;5;28;01mfor\u001B[39;00m cat_idx, missing_idx \u001B[38;5;129;01min\u001B[39;00m \u001B[38;5;28mself\u001B[39m._missing_indices.items():\n",
      "\u001B[36mFile \u001B[39m\u001B[32m~\\PyCharmMiscProject\\.venv\\Lib\\site-packages\\sklearn\\preprocessing\\_encoders.py:218\u001B[39m, in \u001B[36m_BaseEncoder._transform\u001B[39m\u001B[34m(self, X, handle_unknown, ensure_all_finite, warn_on_unknown, ignore_category_indices)\u001B[39m\n\u001B[32m    213\u001B[39m \u001B[38;5;28;01mif\u001B[39;00m handle_unknown == \u001B[33m\"\u001B[39m\u001B[33merror\u001B[39m\u001B[33m\"\u001B[39m:\n\u001B[32m    214\u001B[39m     msg = (\n\u001B[32m    215\u001B[39m         \u001B[33m\"\u001B[39m\u001B[33mFound unknown categories \u001B[39m\u001B[38;5;132;01m{0}\u001B[39;00m\u001B[33m in column \u001B[39m\u001B[38;5;132;01m{1}\u001B[39;00m\u001B[33m\"\u001B[39m\n\u001B[32m    216\u001B[39m         \u001B[33m\"\u001B[39m\u001B[33m during transform\u001B[39m\u001B[33m\"\u001B[39m.format(diff, i)\n\u001B[32m    217\u001B[39m     )\n\u001B[32m--> \u001B[39m\u001B[32m218\u001B[39m     \u001B[38;5;28;01mraise\u001B[39;00m \u001B[38;5;167;01mValueError\u001B[39;00m(msg)\n\u001B[32m    219\u001B[39m \u001B[38;5;28;01melse\u001B[39;00m:\n\u001B[32m    220\u001B[39m     \u001B[38;5;28;01mif\u001B[39;00m warn_on_unknown:\n",
      "\u001B[31mValueError\u001B[39m: Found unknown categories [np.float64(160.0), np.float64(173.0), np.float64(192.0), np.float64(216.0), np.float64(240.0), np.float64(245.0), np.float64(264.0), np.float64(279.0), np.float64(297.0), np.float64(301.0), np.float64(346.0), np.float64(348.0), np.float64(352.0), np.float64(356.0), np.float64(370.0), np.float64(381.0), np.float64(384.0), np.float64(385.0), np.float64(392.0), np.float64(396.0), np.float64(405.0), np.float64(407.0), np.float64(409.0), np.float64(416.0), np.float64(423.0), np.float64(430.0), np.float64(432.0), np.float64(448.0), np.float64(450.0), np.float64(451.0), np.float64(456.0), np.float64(462.0), np.float64(468.0), np.float64(480.0), np.float64(481.0), np.float64(483.0), np.float64(484.0), np.float64(492.0), np.float64(494.0), np.float64(498.0), np.float64(502.0), np.float64(504.0), np.float64(516.0), np.float64(520.0), np.float64(525.0), np.float64(526.0), np.float64(528.0), np.float64(530.0), np.float64(531.0), np.float64(533.0), np.float64(536.0), np.float64(546.0), np.float64(547.0), np.float64(550.0), np.float64(552.0), np.float64(554.0), np.float64(560.0), np.float64(561.0), np.float64(565.0), np.float64(569.0), np.float64(570.0), np.float64(572.0), np.float64(576.0), np.float64(583.0), np.float64(585.0), np.float64(592.0), np.float64(596.0), np.float64(600.0), np.float64(608.0), np.float64(610.0), np.float64(616.0), np.float64(621.0), np.float64(624.0), np.float64(628.0), np.float64(629.0), np.float64(630.0), np.float64(631.0), np.float64(635.0), np.float64(636.0), np.float64(637.0), np.float64(641.0), np.float64(644.0), np.float64(651.0), np.float64(660.0), np.float64(662.0), np.float64(663.0), np.float64(666.0), np.float64(671.0), np.float64(672.0), np.float64(675.0), np.float64(676.0), np.float64(677.0), np.float64(678.0), np.float64(680.0), np.float64(684.0), np.float64(686.0), np.float64(687.0), np.float64(689.0), np.float64(690.0), np.float64(691.0), np.float64(697.0), np.float64(698.0), np.float64(699.0), np.float64(704.0), np.float64(707.0), np.float64(709.0), np.float64(712.0), np.float64(713.0), np.float64(715.0), np.float64(716.0), np.float64(720.0), np.float64(723.0), np.float64(725.0), np.float64(728.0), np.float64(732.0), np.float64(734.0), np.float64(736.0), np.float64(738.0), np.float64(739.0), np.float64(741.0), np.float64(744.0), np.float64(745.0), np.float64(747.0), np.float64(750.0), np.float64(752.0), np.float64(754.0), np.float64(755.0), np.float64(756.0), np.float64(760.0), np.float64(763.0), np.float64(764.0), np.float64(765.0), np.float64(768.0), np.float64(770.0), np.float64(771.0), np.float64(779.0), np.float64(780.0), np.float64(781.0), np.float64(782.0), np.float64(784.0), np.float64(789.0), np.float64(792.0), np.float64(793.0), np.float64(794.0), np.float64(795.0), np.float64(796.0), np.float64(797.0), np.float64(798.0), np.float64(799.0), np.float64(801.0), np.float64(804.0), np.float64(806.0), np.float64(808.0), np.float64(810.0), np.float64(812.0), np.float64(813.0), np.float64(816.0), np.float64(817.0), np.float64(818.0), np.float64(819.0), np.float64(821.0), np.float64(822.0), np.float64(824.0), np.float64(825.0), np.float64(826.0), np.float64(827.0), np.float64(828.0), np.float64(830.0), np.float64(831.0), np.float64(832.0), np.float64(833.0), np.float64(835.0), np.float64(836.0), np.float64(837.0), np.float64(840.0), np.float64(842.0), np.float64(844.0), np.float64(845.0), np.float64(846.0), np.float64(847.0), np.float64(848.0), np.float64(850.0), np.float64(851.0), np.float64(852.0), np.float64(853.0), np.float64(854.0), np.float64(855.0), np.float64(856.0), np.float64(858.0), np.float64(859.0), np.float64(860.0), np.float64(861.0), np.float64(864.0), np.float64(868.0), np.float64(869.0), np.float64(870.0), np.float64(872.0), np.float64(876.0), np.float64(878.0), np.float64(879.0), np.float64(880.0), np.float64(882.0), np.float64(884.0), np.float64(886.0), np.float64(888.0), np.float64(890.0), np.float64(891.0), np.float64(892.0), np.float64(894.0), np.float64(895.0), np.float64(896.0), np.float64(900.0), np.float64(901.0), np.float64(902.0), np.float64(903.0), np.float64(904.0), np.float64(907.0), np.float64(908.0), np.float64(910.0), np.float64(911.0), np.float64(912.0), np.float64(913.0), np.float64(914.0), np.float64(915.0), np.float64(916.0), np.float64(917.0), np.float64(918.0), np.float64(920.0), np.float64(922.0), np.float64(923.0), np.float64(924.0), np.float64(925.0), np.float64(926.0), np.float64(928.0), np.float64(929.0), np.float64(930.0), np.float64(931.0), np.float64(932.0), np.float64(936.0), np.float64(938.0), np.float64(941.0), np.float64(942.0), np.float64(943.0), np.float64(944.0), np.float64(945.0), np.float64(946.0), np.float64(948.0), np.float64(949.0), np.float64(951.0), np.float64(952.0), np.float64(954.0), np.float64(955.0), np.float64(957.0), np.float64(960.0), np.float64(964.0), np.float64(966.0), np.float64(967.0), np.float64(969.0), np.float64(970.0), np.float64(972.0), np.float64(973.0), np.float64(975.0), np.float64(976.0), np.float64(979.0), np.float64(980.0), np.float64(981.0), np.float64(982.0), np.float64(984.0), np.float64(985.0), np.float64(988.0), np.float64(989.0), np.float64(990.0), np.float64(992.0), np.float64(994.0), np.float64(995.0), np.float64(996.0), np.float64(998.0), np.float64(1000.0), np.float64(1001.0), np.float64(1004.0), np.float64(1005.0), np.float64(1008.0), np.float64(1014.0), np.float64(1015.0), np.float64(1020.0), np.float64(1022.0), np.float64(1024.0), np.float64(1025.0), np.float64(1026.0), np.float64(1027.0), np.float64(1029.0), np.float64(1031.0), np.float64(1032.0), np.float64(1035.0), np.float64(1036.0), np.float64(1037.0), np.float64(1038.0), np.float64(1040.0), np.float64(1041.0), np.float64(1042.0), np.float64(1043.0), np.float64(1044.0), np.float64(1045.0), np.float64(1046.0), np.float64(1047.0), np.float64(1048.0), np.float64(1049.0), np.float64(1050.0), np.float64(1051.0), np.float64(1052.0), np.float64(1053.0), np.float64(1054.0), np.float64(1055.0), np.float64(1056.0), np.float64(1057.0), np.float64(1058.0), np.float64(1059.0), np.float64(1060.0), np.float64(1061.0), np.float64(1062.0), np.float64(1064.0), np.float64(1065.0), np.float64(1066.0), np.float64(1067.0), np.float64(1068.0), np.float64(1069.0), np.float64(1070.0), np.float64(1072.0), np.float64(1073.0), np.float64(1074.0), np.float64(1075.0), np.float64(1076.0), np.float64(1077.0), np.float64(1078.0), np.float64(1079.0), np.float64(1080.0), np.float64(1081.0), np.float64(1082.0), np.float64(1083.0), np.float64(1084.0), np.float64(1088.0), np.float64(1089.0), np.float64(1090.0), np.float64(1091.0), np.float64(1092.0), np.float64(1093.0), np.float64(1094.0), np.float64(1097.0), np.float64(1100.0), np.float64(1103.0), np.float64(1104.0), np.float64(1105.0), np.float64(1107.0), np.float64(1108.0), np.float64(1112.0), np.float64(1113.0), np.float64(1114.0), np.float64(1116.0), np.float64(1117.0), np.float64(1118.0), np.float64(1121.0), np.float64(1122.0), np.float64(1124.0), np.float64(1127.0), np.float64(1128.0), np.float64(1129.0), np.float64(1130.0), np.float64(1131.0), np.float64(1135.0), np.float64(1138.0), np.float64(1140.0), np.float64(1141.0), np.float64(1142.0), np.float64(1143.0), np.float64(1144.0), np.float64(1145.0), np.float64(1146.0), np.float64(1147.0), np.float64(1148.0), np.float64(1149.0), np.float64(1150.0), np.float64(1151.0), np.float64(1152.0), np.float64(1153.0), np.float64(1158.0), np.float64(1160.0), np.float64(1162.0), np.float64(1165.0), np.float64(1166.0), np.float64(1168.0), np.float64(1169.0), np.float64(1170.0), np.float64(1172.0), np.float64(1173.0), np.float64(1174.0), np.float64(1175.0), np.float64(1176.0), np.float64(1177.0), np.float64(1178.0), np.float64(1179.0), np.float64(1180.0), np.float64(1181.0), np.float64(1182.0), np.float64(1187.0), np.float64(1188.0), np.float64(1189.0), np.float64(1190.0), np.float64(1191.0), np.float64(1195.0), np.float64(1196.0), np.float64(1200.0), np.float64(1202.0), np.float64(1204.0), np.float64(1206.0), np.float64(1208.0), np.float64(1209.0), np.float64(1211.0), np.float64(1212.0), np.float64(1214.0), np.float64(1216.0), np.float64(1217.0), np.float64(1218.0), np.float64(1220.0), np.float64(1222.0), np.float64(1223.0), np.float64(1224.0), np.float64(1226.0), np.float64(1228.0), np.float64(1230.0), np.float64(1231.0), np.float64(1232.0), np.float64(1235.0), np.float64(1236.0), np.float64(1240.0), np.float64(1242.0), np.float64(1243.0), np.float64(1244.0), np.float64(1246.0), np.float64(1248.0), np.float64(1250.0), np.float64(1251.0), np.float64(1254.0), np.float64(1256.0), np.float64(1257.0), np.float64(1259.0), np.float64(1260.0), np.float64(1265.0), np.float64(1266.0), np.float64(1267.0), np.float64(1270.0), np.float64(1272.0), np.float64(1273.0), np.float64(1277.0), np.float64(1278.0), np.float64(1280.0), np.float64(1282.0), np.float64(1284.0), np.float64(1286.0), np.float64(1288.0), np.float64(1290.0), np.float64(1292.0), np.float64(1295.0), np.float64(1296.0), np.float64(1298.0), np.float64(1300.0), np.float64(1302.0), np.float64(1306.0), np.float64(1308.0), np.float64(1310.0), np.float64(1312.0), np.float64(1313.0), np.float64(1317.0), np.float64(1319.0), np.float64(1324.0), np.float64(1325.0), np.float64(1326.0), np.float64(1329.0), np.float64(1330.0), np.float64(1331.0), np.float64(1332.0), np.float64(1334.0), np.float64(1335.0), np.float64(1336.0), np.float64(1337.0), np.float64(1338.0), np.float64(1339.0), np.float64(1341.0), np.float64(1342.0), np.float64(1344.0), np.float64(1347.0), np.float64(1348.0), np.float64(1350.0), np.float64(1351.0), np.float64(1352.0), np.float64(1357.0), np.float64(1358.0), np.float64(1362.0), np.float64(1363.0), np.float64(1365.0), np.float64(1367.0), np.float64(1368.0), np.float64(1369.0), np.float64(1370.0), np.float64(1372.0), np.float64(1376.0), np.float64(1377.0), np.float64(1378.0), np.float64(1380.0), np.float64(1381.0), np.float64(1382.0), np.float64(1388.0), np.float64(1389.0), np.float64(1390.0), np.float64(1393.0), np.float64(1395.0), np.float64(1396.0), np.float64(1398.0), np.float64(1400.0), np.float64(1401.0), np.float64(1402.0), np.float64(1405.0), np.float64(1406.0), np.float64(1408.0), np.float64(1409.0), np.float64(1414.0), np.float64(1415.0), np.float64(1417.0), np.float64(1418.0), np.float64(1419.0), np.float64(1420.0), np.float64(1422.0), np.float64(1425.0), np.float64(1426.0), np.float64(1427.0), np.float64(1430.0), np.float64(1431.0), np.float64(1432.0), np.float64(1433.0), np.float64(1434.0), np.float64(1436.0), np.float64(1438.0), np.float64(1441.0), np.float64(1444.0), np.float64(1445.0), np.float64(1449.0), np.float64(1450.0), np.float64(1451.0), np.float64(1453.0), np.float64(1454.0), np.float64(1455.0), np.float64(1460.0), np.float64(1461.0), np.float64(1462.0), np.float64(1463.0), np.float64(1468.0), np.float64(1479.0), np.float64(1480.0), np.float64(1487.0), np.float64(1488.0), np.float64(1489.0), np.float64(1491.0), np.float64(1492.0), np.float64(1494.0), np.float64(1495.0), np.float64(1498.0), np.float64(1501.0), np.float64(1504.0), np.float64(1508.0), np.float64(1509.0), np.float64(1510.0), np.float64(1511.0), np.float64(1512.0), np.float64(1518.0), np.float64(1519.0), np.float64(1524.0), np.float64(1528.0), np.float64(1529.0), np.float64(1530.0), np.float64(1531.0), np.float64(1538.0), np.float64(1540.0), np.float64(1542.0), np.float64(1544.0), np.float64(1546.0), np.float64(1550.0), np.float64(1553.0), np.float64(1554.0), np.float64(1555.0), np.float64(1556.0), np.float64(1557.0), np.float64(1560.0), np.float64(1561.0), np.float64(1562.0), np.float64(1564.0), np.float64(1568.0), np.float64(1569.0), np.float64(1570.0), np.float64(1573.0), np.float64(1574.0), np.float64(1577.0), np.float64(1578.0), np.float64(1580.0), np.float64(1582.0), np.float64(1584.0), np.float64(1587.0), np.float64(1590.0), np.float64(1592.0), np.float64(1594.0), np.float64(1595.0), np.float64(1596.0), np.float64(1598.0), np.float64(1602.0), np.float64(1603.0), np.float64(1604.0), np.float64(1606.0), np.float64(1612.0), np.float64(1614.0), np.float64(1615.0), np.float64(1617.0), np.float64(1618.0), np.float64(1620.0), np.float64(1621.0), np.float64(1625.0), np.float64(1629.0), np.float64(1632.0), np.float64(1641.0), np.float64(1642.0), np.float64(1643.0), np.float64(1645.0), np.float64(1652.0), np.float64(1660.0), np.float64(1664.0), np.float64(1666.0), np.float64(1670.0), np.float64(1671.0), np.float64(1673.0), np.float64(1675.0), np.float64(1678.0), np.float64(1679.0), np.float64(1680.0), np.float64(1685.0), np.float64(1686.0), np.float64(1689.0), np.float64(1694.0), np.float64(1696.0), np.float64(1698.0), np.float64(1700.0), np.float64(1702.0), np.float64(1704.0), np.float64(1705.0), np.float64(1706.0), np.float64(1710.0), np.float64(1712.0), np.float64(1714.0), np.float64(1720.0), np.float64(1721.0), np.float64(1726.0), np.float64(1728.0), np.float64(1733.0), np.float64(1736.0), np.float64(1738.0), np.float64(1739.0), np.float64(1740.0), np.float64(1742.0), np.float64(1748.0), np.float64(1751.0), np.float64(1760.0), np.float64(1765.0), np.float64(1774.0), np.float64(1776.0), np.float64(1778.0), np.float64(1779.0), np.float64(1780.0), np.float64(1782.0), np.float64(1790.0), np.float64(1792.0), np.float64(1800.0), np.float64(1802.0), np.float64(1803.0), np.float64(1822.0), np.float64(1824.0), np.float64(1829.0), np.float64(1832.0), np.float64(1836.0), np.float64(1838.0), np.float64(1840.0), np.float64(1848.0), np.float64(1850.0), np.float64(1851.0), np.float64(1858.0), np.float64(1865.0), np.float64(1866.0), np.float64(1868.0), np.float64(1884.0), np.float64(1898.0), np.float64(1910.0), np.float64(1921.0), np.float64(1922.0), np.float64(1934.0), np.float64(1949.0), np.float64(1950.0), np.float64(1958.0), np.float64(1964.0), np.float64(1966.0), np.float64(1967.0), np.float64(1978.0), np.float64(1982.0), np.float64(1994.0), np.float64(2002.0), np.float64(2014.0), np.float64(2020.0), np.float64(2024.0), np.float64(2036.0), np.float64(2048.0), np.float64(2062.0), np.float64(2108.0), np.float64(2140.0), np.float64(2171.0), np.float64(2190.0), np.float64(2200.0), np.float64(2208.0), np.float64(2220.0), np.float64(2271.0), np.float64(2320.0), np.float64(2418.0), np.float64(2452.0), np.float64(2458.0), np.float64(2461.0), np.float64(2492.0), np.float64(2535.0), np.float64(2552.0), np.float64(2630.0), np.float64(2660.0), np.float64(2846.0), np.float64(5095.0), np.float64(nan)] in column 0 during transform"
     ]
    }
   ],
   "execution_count": 47
  }
 ],
 "metadata": {
  "kernelspec": {
   "display_name": "Python 3",
   "language": "python",
   "name": "python3"
  },
  "language_info": {
   "codemirror_mode": {
    "name": "ipython",
    "version": 2
   },
   "file_extension": ".py",
   "mimetype": "text/x-python",
   "name": "python",
   "nbconvert_exporter": "python",
   "pygments_lexer": "ipython2",
   "version": "2.7.6"
  }
 },
 "nbformat": 4,
 "nbformat_minor": 5
}
